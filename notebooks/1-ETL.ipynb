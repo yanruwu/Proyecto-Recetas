{
 "cells": [
  {
   "cell_type": "code",
   "execution_count": 2,
   "metadata": {},
   "outputs": [
    {
     "data": {
      "text/plain": [
       "True"
      ]
     },
     "execution_count": 2,
     "metadata": {},
     "output_type": "execute_result"
    }
   ],
   "source": [
    "import pandas as pd\n",
    "import sys\n",
    "sys.path.append(\"..\")\n",
    "from src.funcs import *\n",
    "from src.query_funcs import *\n",
    "from src.query_text import *\n",
    "import dotenv\n",
    "dotenv.load_dotenv()"
   ]
  },
  {
   "cell_type": "code",
   "execution_count": null,
   "metadata": {},
   "outputs": [
    {
     "name": "stderr",
     "output_type": "stream",
     "text": [
      "100%|██████████| 62/62 [01:15<00:00,  1.22s/it]\n",
      "100%|██████████| 71/71 [01:33<00:00,  1.32s/it]\n",
      "100%|██████████| 78/78 [01:31<00:00,  1.17s/it]\n",
      "100%|██████████| 64/64 [01:43<00:00,  1.62s/it]\n",
      "100%|██████████| 71/71 [01:26<00:00,  1.22s/it]\n"
     ]
    }
   ],
   "source": [
    "# Término de búsqueda\n",
    "search = \"Pasta recipe #cooking\"\n",
    "pasta_recipes = generate_results(search)\n",
    "\n",
    "search = \"#cooking\"\n",
    "general_recipes = generate_results(search)\n",
    "\n",
    "search = \"Chicken recipe #cooking\"\n",
    "chicken_recipes = generate_results(search)\n",
    "\n",
    "search = \"Vegan recipe #cooking\"\n",
    "vegan_recipes = generate_results(search)\n",
    "\n",
    "search = \"Chinese recipe #cooking\"\n",
    "chinese_recipes = generate_results(search)"
   ]
  },
  {
   "cell_type": "code",
   "execution_count": null,
   "metadata": {},
   "outputs": [],
   "source": [
    "# pasta_recipes.to_csv(\"datos/pasta.csv\")\n",
    "# general_recipes.to_csv(\"datos/general.csv\")\n",
    "# chicken_recipes.to_csv(\"datos/chicken.csv\")\n",
    "# vegan_recipes.to_csv(\"datos/vegan.csv\")\n",
    "# chinese_recipes.to_csv(\"datos/chinese.csv\")"
   ]
  },
  {
   "cell_type": "code",
   "execution_count": 14,
   "metadata": {},
   "outputs": [],
   "source": [
    "pasta_recipes = pd.read_csv('datos/pasta.csv', index_col = 0)\n",
    "general_recipes = pd.read_csv('datos/general.csv', index_col = 0)\n",
    "chicken_recipes = pd.read_csv('datos/chicken.csv', index_col = 0)\n",
    "vegan_recipes = pd.read_csv('datos/vegan.csv', index_col = 0)\n",
    "chinese_recipes = pd.read_csv('datos/chinese.csv', index_col = 0)"
   ]
  },
  {
   "cell_type": "code",
   "execution_count": 15,
   "metadata": {},
   "outputs": [],
   "source": [
    "pasta_titles = clean_texts(pasta_recipes['title'])\n",
    "general_titles = clean_texts(general_recipes['title'])\n",
    "chicken_titles = clean_texts(chicken_recipes['title'])\n",
    "vegan_titles = clean_texts(vegan_recipes['title'])\n",
    "chinese_titles = clean_texts(chinese_recipes['title'])"
   ]
  },
  {
   "cell_type": "code",
   "execution_count": 16,
   "metadata": {},
   "outputs": [
    {
     "name": "stdout",
     "output_type": "stream",
     "text": [
      "Pasta Titles: ['parmesan cream pasta', 'how much pasta should you cook']\n",
      "General Titles: ['dragon s breath with', 'the real spaghetti o s', 'how to cook with ice']\n",
      "Chicken Titles: ['marry me chicken flavour fusion chicken', 'the best chicken']\n",
      "Vegan Titles: ['annoying the vegans', 'high protein best vegan patties without excessive calories batch cook freeze and add to any meal']\n",
      "Chinese Titles: ['they call this drug eggs in korea because these are so addictive day 10 of korean food', 'restaurant style chinese broccoli']\n"
     ]
    }
   ],
   "source": [
    "print(\"Pasta Titles:\", pasta_titles[:2])\n",
    "print(\"General Titles:\", general_titles[:3])\n",
    "print(\"Chicken Titles:\", chicken_titles[:2])\n",
    "print(\"Vegan Titles:\", vegan_titles[:2])\n",
    "print(\"Chinese Titles:\", chinese_titles[:2])"
   ]
  },
  {
   "cell_type": "code",
   "execution_count": 17,
   "metadata": {},
   "outputs": [
    {
     "name": "stdout",
     "output_type": "stream",
     "text": [
      "cannot access local variable 'url' where it is not associated with a value\n",
      "cannot access local variable 'url' where it is not associated with a value\n",
      "cannot access local variable 'url' where it is not associated with a value\n",
      "cannot access local variable 'url' where it is not associated with a value\n"
     ]
    }
   ],
   "source": [
    "pasta_urls = obtener_links_paralelos(pasta_titles[:5])\n",
    "general_urls = obtener_links_paralelos(general_titles[:5])\n",
    "chicken_urls = obtener_links_paralelos(chicken_titles[:5])\n",
    "vegan_urls = obtener_links_paralelos(vegan_titles[:5])\n",
    "chinese_urls = obtener_links_paralelos(chinese_titles[:5])"
   ]
  },
  {
   "cell_type": "code",
   "execution_count": 20,
   "metadata": {},
   "outputs": [
    {
     "data": {
      "text/plain": [
       "['https://tasty.co/recipe/dragon-mother',\n",
       " 'https://www.allrecipes.com/recipe/11885/moms-best-spaghetti-sauce/',\n",
       " 'https://www.allrecipes.com/recipe/8368641/deconstructed-big-mac/',\n",
       " 'https://www.allrecipes.com/recipe/233928/how-to-make-vanilla-ice-cream/',\n",
       " 'https://www.allrecipes.com/recipe/237678/kfc-style-spice-for-chicken/']"
      ]
     },
     "execution_count": 20,
     "metadata": {},
     "output_type": "execute_result"
    }
   ],
   "source": [
    "general_urls"
   ]
  },
  {
   "cell_type": "code",
   "execution_count": 21,
   "metadata": {},
   "outputs": [],
   "source": [
    "list_recipes_social = [\n",
    "    pasta_recipes.iloc[:5],\n",
    "    general_recipes.iloc[:5],\n",
    "    chicken_recipes.iloc[:5],\n",
    "    vegan_recipes.iloc[:5],\n",
    "    chinese_recipes.iloc[:5]\n",
    "    ]"
   ]
  },
  {
   "cell_type": "code",
   "execution_count": 24,
   "metadata": {},
   "outputs": [],
   "source": [
    "url_lists = [\n",
    "    (pasta_urls, 'pasta'),\n",
    "    (general_urls, 'general'),\n",
    "    (chicken_urls, 'chicken'),\n",
    "    (vegan_urls, 'vegan'),\n",
    "    (chinese_urls, 'chinese')\n",
    "]\n",
    "\n",
    "df_ingredients = pd.DataFrame()\n",
    "i = 0\n",
    "for url_list, recipe_type in url_lists:\n",
    "    socials = list_recipes_social[i]\n",
    "    j = 0\n",
    "    for url in url_list:\n",
    "        if not url:\n",
    "            continue\n",
    "        elif 'tasty.co' in url:\n",
    "            df_it = tasty_ing(url)\n",
    "        elif 'allrecipes.com' in url:\n",
    "            df_it = allrecipes_ing(url)\n",
    "\n",
    "        df_it['recipe_type'] = recipe_type\n",
    "        df_it['link'] = url\n",
    "        df_it['views'] = socials['views'].values[j]\n",
    "        df_it['date'] = socials['date'].values[j]\n",
    "\n",
    "        df_ingredients = pd.concat([df_ingredients, df_it], ignore_index=True)\n",
    "        j += 1\n",
    "    i += 1\n"
   ]
  },
  {
   "cell_type": "markdown",
   "metadata": {},
   "source": [
    "## EDAMAM API"
   ]
  },
  {
   "cell_type": "code",
   "execution_count": 26,
   "metadata": {},
   "outputs": [],
   "source": [
    "ingredients = edamam_query(df_ingredients[[\"amount\", \"unit\", \"ingredient\"]])"
   ]
  },
  {
   "cell_type": "code",
   "execution_count": 28,
   "metadata": {},
   "outputs": [],
   "source": [
    "df_final = pd.DataFrame()\n",
    "for title in df_ingredients[\"title\"].unique():\n",
    "    recipe_df = df_ingredients[df_ingredients[\"title\"] == title]\n",
    "    ingredients = edamam_query(recipe_df[[\"amount\", \"unit\", \"ingredient\"]])\n",
    "    try:\n",
    "        nutrients_df = get_nutrients(ingredients, float(recipe_df[\"servings\"].unique()[0]))\n",
    "    except Exception as e:\n",
    "        print(ingredients)\n",
    "        print(e)\n",
    "    nutrients_df[\"title\"] = title\n",
    "    recipe_type = df_ingredients[df_ingredients[\"title\"] == title][\"recipe_type\"].unique()[0]\n",
    "    recipe_url = df_ingredients[df_ingredients[\"title\"] == title][\"link\"].unique()[0]\n",
    "    recipe_views = df_ingredients[df_ingredients[\"title\"] == title][\"views\"].unique()[0]\n",
    "    recipe_date = df_ingredients[df_ingredients[\"title\"] == title][\"date\"].unique()[0]\n",
    "    nutrients_df[\"recipe_type\"] = recipe_type\n",
    "    nutrients_df[\"recipe_url\"] = recipe_url\n",
    "    nutrients_df[\"views\"] = recipe_views\n",
    "    nutrients_df[\"date\"] = recipe_date\n",
    "    df_final = pd.concat([df_final, nutrients_df])"
   ]
  },
  {
   "cell_type": "code",
   "execution_count": 54,
   "metadata": {},
   "outputs": [],
   "source": [
    "df_recipes = df_final.groupby('title').agg({\n",
    "    'Calories (kcal)': 'sum',\n",
    "    'Protein (g)': 'sum',\n",
    "    'Fat (g)': 'sum',\n",
    "    'Carbohydrates (g)': 'sum',\n",
    "    'Sugar (g)': 'sum',\n",
    "    'Fiber (g)': 'sum',\n",
    "    'Serving weight (g)': 'first',  # Asumimos que el peso por porción es el mismo para toda la receta\n",
    "    'recipe_type' : 'first',\n",
    "    'recipe_url' : 'first',\n",
    "    'views' : 'first',\n",
    "    'date' : 'first'\n",
    "}).reset_index()"
   ]
  },
  {
   "cell_type": "code",
   "execution_count": 55,
   "metadata": {},
   "outputs": [
    {
     "data": {
      "text/html": [
       "<div>\n",
       "<style scoped>\n",
       "    .dataframe tbody tr th:only-of-type {\n",
       "        vertical-align: middle;\n",
       "    }\n",
       "\n",
       "    .dataframe tbody tr th {\n",
       "        vertical-align: top;\n",
       "    }\n",
       "\n",
       "    .dataframe thead th {\n",
       "        text-align: right;\n",
       "    }\n",
       "</style>\n",
       "<table border=\"1\" class=\"dataframe\">\n",
       "  <thead>\n",
       "    <tr style=\"text-align: right;\">\n",
       "      <th></th>\n",
       "      <th>title</th>\n",
       "      <th>Calories (kcal)</th>\n",
       "      <th>Protein (g)</th>\n",
       "      <th>Fat (g)</th>\n",
       "      <th>Carbohydrates (g)</th>\n",
       "      <th>Sugar (g)</th>\n",
       "      <th>Fiber (g)</th>\n",
       "      <th>Serving weight (g)</th>\n",
       "      <th>recipe_type</th>\n",
       "      <th>recipe_url</th>\n",
       "      <th>views</th>\n",
       "      <th>date</th>\n",
       "    </tr>\n",
       "  </thead>\n",
       "  <tbody>\n",
       "    <tr>\n",
       "      <th>0</th>\n",
       "      <td>Baked Pasta</td>\n",
       "      <td>571.580610</td>\n",
       "      <td>29.328934</td>\n",
       "      <td>27.558452</td>\n",
       "      <td>51.034106</td>\n",
       "      <td>6.279363</td>\n",
       "      <td>3.518768</td>\n",
       "      <td>281.729937</td>\n",
       "      <td>pasta</td>\n",
       "      <td>https://www.allrecipes.com/recipe/11906/baked-...</td>\n",
       "      <td>1879803</td>\n",
       "      <td>2024-09-12 11:14:32</td>\n",
       "    </tr>\n",
       "    <tr>\n",
       "      <th>1</th>\n",
       "      <td>Chicken French (Rochester, NY Style)</td>\n",
       "      <td>598.143216</td>\n",
       "      <td>66.375730</td>\n",
       "      <td>28.917675</td>\n",
       "      <td>12.661439</td>\n",
       "      <td>4.411881</td>\n",
       "      <td>0.309421</td>\n",
       "      <td>359.184700</td>\n",
       "      <td>chicken</td>\n",
       "      <td>https://www.allrecipes.com/recipe/213487/chick...</td>\n",
       "      <td>1028296</td>\n",
       "      <td>2024-02-29 04:45:03</td>\n",
       "    </tr>\n",
       "    <tr>\n",
       "      <th>2</th>\n",
       "      <td>Classic Old Fashioned</td>\n",
       "      <td>160.013333</td>\n",
       "      <td>0.199000</td>\n",
       "      <td>0.034500</td>\n",
       "      <td>14.126533</td>\n",
       "      <td>13.489700</td>\n",
       "      <td>0.640000</td>\n",
       "      <td>322.550491</td>\n",
       "      <td>chinese</td>\n",
       "      <td>https://www.allrecipes.com/recipe/162397/class...</td>\n",
       "      <td>5194650</td>\n",
       "      <td>2024-08-14 04:00:14</td>\n",
       "    </tr>\n",
       "    <tr>\n",
       "      <th>3</th>\n",
       "      <td>Deconstructed Big Mac</td>\n",
       "      <td>44.200583</td>\n",
       "      <td>0.089818</td>\n",
       "      <td>3.724229</td>\n",
       "      <td>2.892519</td>\n",
       "      <td>2.302262</td>\n",
       "      <td>0.056698</td>\n",
       "      <td>13.927083</td>\n",
       "      <td>general</td>\n",
       "      <td>https://www.allrecipes.com/recipe/8368641/deco...</td>\n",
       "      <td>171646659</td>\n",
       "      <td>2024-04-01 08:25:24</td>\n",
       "    </tr>\n",
       "    <tr>\n",
       "      <th>4</th>\n",
       "      <td>Dragon Mother</td>\n",
       "      <td>825.692500</td>\n",
       "      <td>2.346025</td>\n",
       "      <td>2.356550</td>\n",
       "      <td>209.741375</td>\n",
       "      <td>201.468738</td>\n",
       "      <td>6.194500</td>\n",
       "      <td>476.595367</td>\n",
       "      <td>general</td>\n",
       "      <td>https://tasty.co/recipe/dragon-mother</td>\n",
       "      <td>208572055</td>\n",
       "      <td>2024-01-19 05:00:22</td>\n",
       "    </tr>\n",
       "  </tbody>\n",
       "</table>\n",
       "</div>"
      ],
      "text/plain": [
       "                                  title  Calories (kcal)  Protein (g)  \\\n",
       "0                           Baked Pasta       571.580610    29.328934   \n",
       "1  Chicken French (Rochester, NY Style)       598.143216    66.375730   \n",
       "2                 Classic Old Fashioned       160.013333     0.199000   \n",
       "3                 Deconstructed Big Mac        44.200583     0.089818   \n",
       "4                         Dragon Mother       825.692500     2.346025   \n",
       "\n",
       "     Fat (g)  Carbohydrates (g)   Sugar (g)  Fiber (g)  Serving weight (g)  \\\n",
       "0  27.558452          51.034106    6.279363   3.518768          281.729937   \n",
       "1  28.917675          12.661439    4.411881   0.309421          359.184700   \n",
       "2   0.034500          14.126533   13.489700   0.640000          322.550491   \n",
       "3   3.724229           2.892519    2.302262   0.056698           13.927083   \n",
       "4   2.356550         209.741375  201.468738   6.194500          476.595367   \n",
       "\n",
       "  recipe_type                                         recipe_url      views  \\\n",
       "0       pasta  https://www.allrecipes.com/recipe/11906/baked-...    1879803   \n",
       "1     chicken  https://www.allrecipes.com/recipe/213487/chick...    1028296   \n",
       "2     chinese  https://www.allrecipes.com/recipe/162397/class...    5194650   \n",
       "3     general  https://www.allrecipes.com/recipe/8368641/deco...  171646659   \n",
       "4     general              https://tasty.co/recipe/dragon-mother  208572055   \n",
       "\n",
       "                  date  \n",
       "0  2024-09-12 11:14:32  \n",
       "1  2024-02-29 04:45:03  \n",
       "2  2024-08-14 04:00:14  \n",
       "3  2024-04-01 08:25:24  \n",
       "4  2024-01-19 05:00:22  "
      ]
     },
     "execution_count": 55,
     "metadata": {},
     "output_type": "execute_result"
    }
   ],
   "source": [
    "df_recipes.head()"
   ]
  },
  {
   "cell_type": "code",
   "execution_count": 56,
   "metadata": {},
   "outputs": [],
   "source": [
    "df_recipes['Health Score'] = df_recipes.apply(lambda row: calcular_puntuacion_salud_por_porcion(\n",
    "    row['Protein (g)'], row['Carbohydrates (g)'], row['Fat (g)'], row['Fiber (g)'], row['Sugar (g)'], row['Calories (kcal)']\n",
    "), axis=1)"
   ]
  },
  {
   "cell_type": "code",
   "execution_count": 57,
   "metadata": {},
   "outputs": [
    {
     "data": {
      "text/html": [
       "<div>\n",
       "<style scoped>\n",
       "    .dataframe tbody tr th:only-of-type {\n",
       "        vertical-align: middle;\n",
       "    }\n",
       "\n",
       "    .dataframe tbody tr th {\n",
       "        vertical-align: top;\n",
       "    }\n",
       "\n",
       "    .dataframe thead th {\n",
       "        text-align: right;\n",
       "    }\n",
       "</style>\n",
       "<table border=\"1\" class=\"dataframe\">\n",
       "  <thead>\n",
       "    <tr style=\"text-align: right;\">\n",
       "      <th></th>\n",
       "      <th>title</th>\n",
       "      <th>Calories (kcal)</th>\n",
       "      <th>Protein (g)</th>\n",
       "      <th>Fat (g)</th>\n",
       "      <th>Carbohydrates (g)</th>\n",
       "      <th>Sugar (g)</th>\n",
       "      <th>Fiber (g)</th>\n",
       "      <th>Serving weight (g)</th>\n",
       "      <th>recipe_type</th>\n",
       "      <th>recipe_url</th>\n",
       "      <th>views</th>\n",
       "      <th>date</th>\n",
       "      <th>Health Score</th>\n",
       "    </tr>\n",
       "  </thead>\n",
       "  <tbody>\n",
       "    <tr>\n",
       "      <th>0</th>\n",
       "      <td>Baked Pasta</td>\n",
       "      <td>571.580610</td>\n",
       "      <td>29.328934</td>\n",
       "      <td>27.558452</td>\n",
       "      <td>51.034106</td>\n",
       "      <td>6.279363</td>\n",
       "      <td>3.518768</td>\n",
       "      <td>281.729937</td>\n",
       "      <td>pasta</td>\n",
       "      <td>https://www.allrecipes.com/recipe/11906/baked-...</td>\n",
       "      <td>1879803</td>\n",
       "      <td>2024-09-12 11:14:32</td>\n",
       "      <td>110.734584</td>\n",
       "    </tr>\n",
       "    <tr>\n",
       "      <th>1</th>\n",
       "      <td>Chicken French (Rochester, NY Style)</td>\n",
       "      <td>598.143216</td>\n",
       "      <td>66.375730</td>\n",
       "      <td>28.917675</td>\n",
       "      <td>12.661439</td>\n",
       "      <td>4.411881</td>\n",
       "      <td>0.309421</td>\n",
       "      <td>359.184700</td>\n",
       "      <td>chicken</td>\n",
       "      <td>https://www.allrecipes.com/recipe/213487/chick...</td>\n",
       "      <td>1028296</td>\n",
       "      <td>2024-02-29 04:45:03</td>\n",
       "      <td>127.916372</td>\n",
       "    </tr>\n",
       "  </tbody>\n",
       "</table>\n",
       "</div>"
      ],
      "text/plain": [
       "                                  title  Calories (kcal)  Protein (g)  \\\n",
       "0                           Baked Pasta       571.580610    29.328934   \n",
       "1  Chicken French (Rochester, NY Style)       598.143216    66.375730   \n",
       "\n",
       "     Fat (g)  Carbohydrates (g)  Sugar (g)  Fiber (g)  Serving weight (g)  \\\n",
       "0  27.558452          51.034106   6.279363   3.518768          281.729937   \n",
       "1  28.917675          12.661439   4.411881   0.309421          359.184700   \n",
       "\n",
       "  recipe_type                                         recipe_url    views  \\\n",
       "0       pasta  https://www.allrecipes.com/recipe/11906/baked-...  1879803   \n",
       "1     chicken  https://www.allrecipes.com/recipe/213487/chick...  1028296   \n",
       "\n",
       "                  date  Health Score  \n",
       "0  2024-09-12 11:14:32    110.734584  \n",
       "1  2024-02-29 04:45:03    127.916372  "
      ]
     },
     "execution_count": 57,
     "metadata": {},
     "output_type": "execute_result"
    }
   ],
   "source": [
    "df_recipes.head(2)"
   ]
  },
  {
   "cell_type": "code",
   "execution_count": 36,
   "metadata": {},
   "outputs": [],
   "source": [
    "unique_ings = df_final.Ingredient.unique()\n",
    "# pd.DataFrame(unique_ings)\n",
    "ings_100g = [f'100 g of {e}' for e in unique_ings]\n",
    "df_concat = pd.DataFrame()\n",
    "batch_size = 30\n",
    "for i in range(0, len(ings_100g), batch_size):\n",
    "    df_it = get_nutrients(ings_100g[i:i + batch_size], 1)\n",
    "    df_concat = pd.concat([df_concat, df_it])\n",
    "df_concat = df_concat.drop(columns=[\"Weight (g)\", \"Serving weight (g)\"])"
   ]
  },
  {
   "cell_type": "code",
   "execution_count": 58,
   "metadata": {},
   "outputs": [
    {
     "data": {
      "text/html": [
       "<div>\n",
       "<style scoped>\n",
       "    .dataframe tbody tr th:only-of-type {\n",
       "        vertical-align: middle;\n",
       "    }\n",
       "\n",
       "    .dataframe tbody tr th {\n",
       "        vertical-align: top;\n",
       "    }\n",
       "\n",
       "    .dataframe thead th {\n",
       "        text-align: right;\n",
       "    }\n",
       "</style>\n",
       "<table border=\"1\" class=\"dataframe\">\n",
       "  <thead>\n",
       "    <tr style=\"text-align: right;\">\n",
       "      <th></th>\n",
       "      <th>Ingredient</th>\n",
       "      <th>Calories (kcal)</th>\n",
       "      <th>Protein (g)</th>\n",
       "      <th>Fat (g)</th>\n",
       "      <th>Carbohydrates (g)</th>\n",
       "      <th>Sugar (g)</th>\n",
       "      <th>Fiber (g)</th>\n",
       "    </tr>\n",
       "  </thead>\n",
       "  <tbody>\n",
       "    <tr>\n",
       "      <th>0</th>\n",
       "      <td>cooking spray</td>\n",
       "      <td>792.0</td>\n",
       "      <td>0.26</td>\n",
       "      <td>78.7</td>\n",
       "      <td>20.70</td>\n",
       "      <td>0.00</td>\n",
       "      <td>0.0</td>\n",
       "    </tr>\n",
       "    <tr>\n",
       "      <th>1</th>\n",
       "      <td>ground beef</td>\n",
       "      <td>254.0</td>\n",
       "      <td>17.20</td>\n",
       "      <td>20.0</td>\n",
       "      <td>0.00</td>\n",
       "      <td>0.00</td>\n",
       "      <td>0.0</td>\n",
       "    </tr>\n",
       "    <tr>\n",
       "      <th>2</th>\n",
       "      <td>tomato sauce</td>\n",
       "      <td>24.0</td>\n",
       "      <td>1.20</td>\n",
       "      <td>0.3</td>\n",
       "      <td>5.31</td>\n",
       "      <td>3.56</td>\n",
       "      <td>1.5</td>\n",
       "    </tr>\n",
       "    <tr>\n",
       "      <th>3</th>\n",
       "      <td>half-and-half</td>\n",
       "      <td>131.0</td>\n",
       "      <td>3.13</td>\n",
       "      <td>11.5</td>\n",
       "      <td>4.30</td>\n",
       "      <td>4.13</td>\n",
       "      <td>0.0</td>\n",
       "    </tr>\n",
       "    <tr>\n",
       "      <th>4</th>\n",
       "      <td>Parmesan cheese</td>\n",
       "      <td>392.0</td>\n",
       "      <td>35.80</td>\n",
       "      <td>25.0</td>\n",
       "      <td>3.22</td>\n",
       "      <td>0.11</td>\n",
       "      <td>0.0</td>\n",
       "    </tr>\n",
       "  </tbody>\n",
       "</table>\n",
       "</div>"
      ],
      "text/plain": [
       "        Ingredient  Calories (kcal)  Protein (g)  Fat (g)  Carbohydrates (g)  \\\n",
       "0    cooking spray            792.0         0.26     78.7              20.70   \n",
       "1      ground beef            254.0        17.20     20.0               0.00   \n",
       "2     tomato sauce             24.0         1.20      0.3               5.31   \n",
       "3    half-and-half            131.0         3.13     11.5               4.30   \n",
       "4  Parmesan cheese            392.0        35.80     25.0               3.22   \n",
       "\n",
       "   Sugar (g)  Fiber (g)  \n",
       "0       0.00        0.0  \n",
       "1       0.00        0.0  \n",
       "2       3.56        1.5  \n",
       "3       4.13        0.0  \n",
       "4       0.11        0.0  "
      ]
     },
     "execution_count": 58,
     "metadata": {},
     "output_type": "execute_result"
    }
   ],
   "source": [
    "df_concat.head()"
   ]
  },
  {
   "cell_type": "code",
   "execution_count": 40,
   "metadata": {},
   "outputs": [
    {
     "name": "stdout",
     "output_type": "stream",
     "text": [
      "Base de datos recetas creada con éxito\n"
     ]
    }
   ],
   "source": [
    "crear_db('recetas')"
   ]
  },
  {
   "cell_type": "code",
   "execution_count": null,
   "metadata": {},
   "outputs": [],
   "source": [
    "conexion = establecer_conn(\"recetas\", \"admin\", \"postgres\")\n",
    "query_commit(conexion, create_tipos_table)\n",
    "\n",
    "conexion = establecer_conn(\"recetas\", \"admin\", \"postgres\")\n",
    "query_commit(conexion, create_recetas_table)\n",
    "\n",
    "conexion = establecer_conn(\"recetas\", \"admin\", \"postgres\")\n",
    "query_commit(conexion, create_ingredientes_table)\n",
    "\n",
    "conexion = establecer_conn(\"recetas\", \"admin\", \"postgres\")\n",
    "query_commit(conexion, create_receta_ingredientes_table)"
   ]
  },
  {
   "cell_type": "code",
   "execution_count": 60,
   "metadata": {},
   "outputs": [],
   "source": [
    "tipo_mapper = mapeo(df_recipes, \"recipe_type\")"
   ]
  },
  {
   "cell_type": "code",
   "execution_count": 61,
   "metadata": {},
   "outputs": [
    {
     "name": "stdout",
     "output_type": "stream",
     "text": [
      "Done!\n"
     ]
    }
   ],
   "source": [
    "lista_tuplas = [tuple([v,k]) for k,v in tipo_mapper.items()]\n",
    "conexion = establecer_conn(\"recetas\", \"admin\", \"postgres\")\n",
    "query_commit_many(conexion, insert_tipos_query, lista_tuplas)"
   ]
  },
  {
   "cell_type": "code",
   "execution_count": 62,
   "metadata": {},
   "outputs": [
    {
     "name": "stdout",
     "output_type": "stream",
     "text": [
      "Done!\n"
     ]
    }
   ],
   "source": [
    "lista_tuplas = [tuple(e) for e in df_concat.values]\n",
    "conexion = establecer_conn(\"recetas\", \"admin\", \"postgres\")\n",
    "query_commit_many(conexion, insert_ingrediente_query, lista_tuplas)"
   ]
  },
  {
   "cell_type": "code",
   "execution_count": 67,
   "metadata": {},
   "outputs": [
    {
     "name": "stdout",
     "output_type": "stream",
     "text": [
      "Done!\n"
     ]
    }
   ],
   "source": [
    "lista_tuplas = [tuple(e) for e in df_recipes.values]\n",
    "conexion = establecer_conn(\"recetas\", \"admin\", \"postgres\")\n",
    "query_commit_many(conexion, insert_receta_query, lista_tuplas)"
   ]
  },
  {
   "cell_type": "markdown",
   "metadata": {},
   "source": [
    "Hacemos una query para extraer los ids de cada uno de los ingredientes y recetas. Con esto podremos mapear los ingredientes de las recetas a unos ids específicos."
   ]
  },
  {
   "cell_type": "code",
   "execution_count": 68,
   "metadata": {},
   "outputs": [],
   "source": [
    "conexion = establecer_conn(\"recetas\", \"admin\", \"postgres\")\n",
    "ids_ingredientes = query_fetch(conexion, 'select ingredient_id, ingredient_name from Ingredientes')\n",
    "ing_mapper = dict()\n",
    "for ing in ids_ingredientes:\n",
    "    ing_mapper[ing[1]] = ing[0]"
   ]
  },
  {
   "cell_type": "code",
   "execution_count": 69,
   "metadata": {},
   "outputs": [],
   "source": [
    "df_final[\"Ingredient\"] = df_final[\"Ingredient\"].map(ing_mapper)"
   ]
  },
  {
   "cell_type": "code",
   "execution_count": 70,
   "metadata": {},
   "outputs": [],
   "source": [
    "df_final[\"recipe_type\"] = df_final[\"recipe_type\"].map(tipo_mapper)"
   ]
  },
  {
   "cell_type": "code",
   "execution_count": 71,
   "metadata": {},
   "outputs": [],
   "source": [
    "conexion = establecer_conn(\"recetas\", \"admin\", \"postgres\")\n",
    "ids_recipes = query_fetch(conexion, 'select recipe_id, title from Recetas')\n",
    "recipe_mapper = dict()\n",
    "for rec in ids_recipes:\n",
    "    recipe_mapper[rec[1]] = rec[0]"
   ]
  },
  {
   "cell_type": "code",
   "execution_count": 72,
   "metadata": {},
   "outputs": [],
   "source": [
    "df_final[\"title\"] = df_final[\"title\"].map(recipe_mapper)"
   ]
  },
  {
   "cell_type": "code",
   "execution_count": 73,
   "metadata": {},
   "outputs": [],
   "source": [
    "df_receta_ingredientes = df_final.reindex(columns=[\"title\", \"Ingredient\", \"Weight (g)\", \"Calories (kcal)\", \"Protein (g)\", \"Fat (g)\", \"Carbohydrates (g)\", \"Sugar (g)\", \"Fiber (g)\", \"Serving weight (g)\"])"
   ]
  },
  {
   "cell_type": "code",
   "execution_count": 74,
   "metadata": {},
   "outputs": [
    {
     "data": {
      "text/html": [
       "<div>\n",
       "<style scoped>\n",
       "    .dataframe tbody tr th:only-of-type {\n",
       "        vertical-align: middle;\n",
       "    }\n",
       "\n",
       "    .dataframe tbody tr th {\n",
       "        vertical-align: top;\n",
       "    }\n",
       "\n",
       "    .dataframe thead th {\n",
       "        text-align: right;\n",
       "    }\n",
       "</style>\n",
       "<table border=\"1\" class=\"dataframe\">\n",
       "  <thead>\n",
       "    <tr style=\"text-align: right;\">\n",
       "      <th></th>\n",
       "      <th>title</th>\n",
       "      <th>Ingredient</th>\n",
       "      <th>Weight (g)</th>\n",
       "      <th>Calories (kcal)</th>\n",
       "      <th>Protein (g)</th>\n",
       "      <th>Fat (g)</th>\n",
       "      <th>Carbohydrates (g)</th>\n",
       "      <th>Sugar (g)</th>\n",
       "      <th>Fiber (g)</th>\n",
       "      <th>Serving weight (g)</th>\n",
       "    </tr>\n",
       "  </thead>\n",
       "  <tbody>\n",
       "    <tr>\n",
       "      <th>0</th>\n",
       "      <td>1</td>\n",
       "      <td>1</td>\n",
       "      <td>3.780118</td>\n",
       "      <td>29.938531</td>\n",
       "      <td>0.009828</td>\n",
       "      <td>2.974953</td>\n",
       "      <td>0.782484</td>\n",
       "      <td>0.0</td>\n",
       "      <td>0.0</td>\n",
       "      <td>281.729937</td>\n",
       "    </tr>\n",
       "    <tr>\n",
       "      <th>1</th>\n",
       "      <td>1</td>\n",
       "      <td>2</td>\n",
       "      <td>56.699046</td>\n",
       "      <td>144.015577</td>\n",
       "      <td>9.752236</td>\n",
       "      <td>11.339809</td>\n",
       "      <td>0.000000</td>\n",
       "      <td>0.0</td>\n",
       "      <td>0.0</td>\n",
       "      <td>281.729937</td>\n",
       "    </tr>\n",
       "  </tbody>\n",
       "</table>\n",
       "</div>"
      ],
      "text/plain": [
       "   title  Ingredient  Weight (g)  Calories (kcal)  Protein (g)    Fat (g)  \\\n",
       "0      1           1    3.780118        29.938531     0.009828   2.974953   \n",
       "1      1           2   56.699046       144.015577     9.752236  11.339809   \n",
       "\n",
       "   Carbohydrates (g)  Sugar (g)  Fiber (g)  Serving weight (g)  \n",
       "0           0.782484        0.0        0.0          281.729937  \n",
       "1           0.000000        0.0        0.0          281.729937  "
      ]
     },
     "execution_count": 74,
     "metadata": {},
     "output_type": "execute_result"
    }
   ],
   "source": [
    "df_receta_ingredientes.head(2)"
   ]
  },
  {
   "cell_type": "code",
   "execution_count": 75,
   "metadata": {},
   "outputs": [
    {
     "name": "stdout",
     "output_type": "stream",
     "text": [
      "Done!\n"
     ]
    }
   ],
   "source": [
    "lista_tuplas = [tuple(e) for e in df_receta_ingredientes.values]\n",
    "conexion = establecer_conn(\"recetas\", \"admin\", \"postgres\")\n",
    "query_commit_many(conexion, insert_receta_ingredientes_query, lista_tuplas)"
   ]
  }
 ],
 "metadata": {
  "kernelspec": {
   "display_name": "Python 3",
   "language": "python",
   "name": "python3"
  },
  "language_info": {
   "codemirror_mode": {
    "name": "ipython",
    "version": 3
   },
   "file_extension": ".py",
   "mimetype": "text/x-python",
   "name": "python",
   "nbconvert_exporter": "python",
   "pygments_lexer": "ipython3",
   "version": "3.11.9"
  }
 },
 "nbformat": 4,
 "nbformat_minor": 2
}
